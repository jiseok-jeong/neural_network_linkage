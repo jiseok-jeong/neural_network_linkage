{
 "cells": [
  {
   "cell_type": "code",
   "execution_count": 31,
   "metadata": {},
   "outputs": [
    {
     "name": "stderr",
     "output_type": "stream",
     "text": [
      "                                                                 \r"
     ]
    }
   ],
   "source": [
    "import pseudopeople as psp\n",
    "import pandas as pd\n",
    "\n",
    "pd.set_option('display.max_columns', None) #show all columns\n",
    "census = psp.generate_decennial_census() #grab Census data\n",
    "taxes = psp.generate_taxes_w2_and_1099() #grab tax data"
   ]
  },
  {
   "cell_type": "code",
   "execution_count": 32,
   "metadata": {},
   "outputs": [
    {
     "name": "stdout",
     "output_type": "stream",
     "text": [
      "There are 9,034 true matches to find between these datasets!\n"
     ]
    }
   ],
   "source": [
    "# To find how many matches there are between records about a given simulant,\n",
    "# we need to multiply the number of records about that simulant in the census by\n",
    "# the number of records about that simulant in taxes\n",
    "true_matches = census.groupby(\"simulant_id\").size().multiply(\n",
    "   taxes.groupby(\"simulant_id\").size(), fill_value=0\n",
    ").sum().astype(int)\n",
    "print(f\"There are {true_matches:,} true matches to find between these datasets!\")"
   ]
  },
  {
   "cell_type": "code",
   "execution_count": 33,
   "metadata": {},
   "outputs": [
    {
     "data": {
      "text/html": [
       "<div>\n",
       "<style scoped>\n",
       "    .dataframe tbody tr th:only-of-type {\n",
       "        vertical-align: middle;\n",
       "    }\n",
       "\n",
       "    .dataframe tbody tr th {\n",
       "        vertical-align: top;\n",
       "    }\n",
       "\n",
       "    .dataframe thead th {\n",
       "        text-align: right;\n",
       "    }\n",
       "</style>\n",
       "<table border=\"1\" class=\"dataframe\">\n",
       "  <thead>\n",
       "    <tr style=\"text-align: right;\">\n",
       "      <th></th>\n",
       "      <th>simulant_id</th>\n",
       "      <th>household_id</th>\n",
       "      <th>first_name</th>\n",
       "      <th>middle_initial</th>\n",
       "      <th>last_name</th>\n",
       "      <th>age</th>\n",
       "      <th>date_of_birth</th>\n",
       "      <th>street_number</th>\n",
       "      <th>street_name</th>\n",
       "      <th>unit_number</th>\n",
       "      <th>city</th>\n",
       "      <th>state</th>\n",
       "      <th>zipcode</th>\n",
       "      <th>housing_type</th>\n",
       "      <th>relationship_to_reference_person</th>\n",
       "      <th>sex</th>\n",
       "      <th>race_ethnicity</th>\n",
       "      <th>year</th>\n",
       "    </tr>\n",
       "  </thead>\n",
       "  <tbody>\n",
       "    <tr>\n",
       "      <th>0</th>\n",
       "      <td>0_2</td>\n",
       "      <td>0_7</td>\n",
       "      <td>Diana</td>\n",
       "      <td>P</td>\n",
       "      <td>Kofron</td>\n",
       "      <td>25</td>\n",
       "      <td>05/06/1994</td>\n",
       "      <td>5112</td>\n",
       "      <td>145th st</td>\n",
       "      <td>NaN</td>\n",
       "      <td>Anytown</td>\n",
       "      <td>WA</td>\n",
       "      <td>00000</td>\n",
       "      <td>Household</td>\n",
       "      <td>Reference person</td>\n",
       "      <td>Female</td>\n",
       "      <td>White</td>\n",
       "      <td>2020</td>\n",
       "    </tr>\n",
       "    <tr>\n",
       "      <th>1</th>\n",
       "      <td>0_3</td>\n",
       "      <td>0_7</td>\n",
       "      <td>Anna</td>\n",
       "      <td>A</td>\n",
       "      <td>Kofron</td>\n",
       "      <td>25</td>\n",
       "      <td>09/29/1994</td>\n",
       "      <td>5112</td>\n",
       "      <td>145th st</td>\n",
       "      <td>NaN</td>\n",
       "      <td>Anytown</td>\n",
       "      <td>WA</td>\n",
       "      <td>00000</td>\n",
       "      <td>Household</td>\n",
       "      <td>Other relative</td>\n",
       "      <td>Female</td>\n",
       "      <td>White</td>\n",
       "      <td>2020</td>\n",
       "    </tr>\n",
       "    <tr>\n",
       "      <th>2</th>\n",
       "      <td>0_923</td>\n",
       "      <td>0_8033</td>\n",
       "      <td>Gerald</td>\n",
       "      <td>R</td>\n",
       "      <td>Butler</td>\n",
       "      <td>76</td>\n",
       "      <td>11/03/1943</td>\n",
       "      <td>1130</td>\n",
       "      <td>mallory ln</td>\n",
       "      <td>NaN</td>\n",
       "      <td>Anytown</td>\n",
       "      <td>WA</td>\n",
       "      <td>00000</td>\n",
       "      <td>Household</td>\n",
       "      <td>Reference person</td>\n",
       "      <td>Male</td>\n",
       "      <td>Black</td>\n",
       "      <td>2020</td>\n",
       "    </tr>\n",
       "    <tr>\n",
       "      <th>3</th>\n",
       "      <td>0_2641</td>\n",
       "      <td>0_1066</td>\n",
       "      <td>Loretta</td>\n",
       "      <td>T</td>\n",
       "      <td>Carley</td>\n",
       "      <td>61</td>\n",
       "      <td>07/71/1958</td>\n",
       "      <td>NaN</td>\n",
       "      <td>delacorte dr</td>\n",
       "      <td>NaN</td>\n",
       "      <td>Anytown</td>\n",
       "      <td>WA</td>\n",
       "      <td>00000</td>\n",
       "      <td>Household</td>\n",
       "      <td>Reference person</td>\n",
       "      <td>Female</td>\n",
       "      <td>White</td>\n",
       "      <td>2020</td>\n",
       "    </tr>\n",
       "    <tr>\n",
       "      <th>4</th>\n",
       "      <td>0_2801</td>\n",
       "      <td>0_1138</td>\n",
       "      <td>Richard</td>\n",
       "      <td>R</td>\n",
       "      <td>Jones</td>\n",
       "      <td>73</td>\n",
       "      <td>03/03/1947</td>\n",
       "      <td>950</td>\n",
       "      <td>caribou lane</td>\n",
       "      <td>NaN</td>\n",
       "      <td>Anytown</td>\n",
       "      <td>WA</td>\n",
       "      <td>00000</td>\n",
       "      <td>Household</td>\n",
       "      <td>Reference person</td>\n",
       "      <td>Male</td>\n",
       "      <td>White</td>\n",
       "      <td>2020</td>\n",
       "    </tr>\n",
       "  </tbody>\n",
       "</table>\n",
       "</div>"
      ],
      "text/plain": [
       "  simulant_id household_id first_name middle_initial last_name age   \n",
       "0         0_2          0_7      Diana              P    Kofron  25  \\\n",
       "1         0_3          0_7       Anna              A    Kofron  25   \n",
       "2       0_923       0_8033     Gerald              R    Butler  76   \n",
       "3      0_2641       0_1066    Loretta              T    Carley  61   \n",
       "4      0_2801       0_1138    Richard              R     Jones  73   \n",
       "\n",
       "  date_of_birth street_number   street_name unit_number     city state   \n",
       "0    05/06/1994          5112      145th st         NaN  Anytown    WA  \\\n",
       "1    09/29/1994          5112      145th st         NaN  Anytown    WA   \n",
       "2    11/03/1943          1130    mallory ln         NaN  Anytown    WA   \n",
       "3    07/71/1958           NaN  delacorte dr         NaN  Anytown    WA   \n",
       "4    03/03/1947           950  caribou lane         NaN  Anytown    WA   \n",
       "\n",
       "  zipcode housing_type relationship_to_reference_person     sex   \n",
       "0   00000    Household                 Reference person  Female  \\\n",
       "1   00000    Household                   Other relative  Female   \n",
       "2   00000    Household                 Reference person    Male   \n",
       "3   00000    Household                 Reference person  Female   \n",
       "4   00000    Household                 Reference person    Male   \n",
       "\n",
       "  race_ethnicity  year  \n",
       "0          White  2020  \n",
       "1          White  2020  \n",
       "2          Black  2020  \n",
       "3          White  2020  \n",
       "4          White  2020  "
      ]
     },
     "execution_count": 33,
     "metadata": {},
     "output_type": "execute_result"
    }
   ],
   "source": [
    "census.head()"
   ]
  },
  {
   "cell_type": "code",
   "execution_count": 34,
   "metadata": {},
   "outputs": [],
   "source": [
    "census.drop(columns=[\"age\", \"date_of_birth\", \"housing_type\", \"relationship_to_reference_person\", \"sex\", \"race_ethnicity\"], inplace = True)"
   ]
  },
  {
   "cell_type": "code",
   "execution_count": 35,
   "metadata": {},
   "outputs": [],
   "source": [
    "taxes = taxes[['simulant_id', 'household_id', 'first_name', 'middle_initial', 'last_name', 'mailing_address_street_number', \n",
    "'mailing_address_street_name', 'mailing_address_unit_number', 'mailing_address_city', 'mailing_address_state', 'mailing_address_zipcode']]\n",
    "\n",
    "taxes.rename(columns={\"mailing_address_street_number\": \"street_number\", \"mailing_address_street_name\": \"street_name\",\n",
    "                      \"mailing_address_unit_number\": \"unit_number\", \"mailing_address_city\": \"city\",\n",
    "                      \"mailing_address_state\": \"state\", \"mailing_address_zipcode\":\"zipcode\"}, inplace=True)"
   ]
  },
  {
   "cell_type": "code",
   "execution_count": 36,
   "metadata": {},
   "outputs": [],
   "source": [
    "# Convert all string columns to lowercase\n",
    "string_cols = census.select_dtypes(include=[\"object\", \"string\"]).columns\n",
    "census[string_cols] = census[string_cols].apply(lambda col: col.str.lower())\n",
    "\n",
    "string_cols = taxes.select_dtypes(include=[\"object\", \"string\"]).columns\n",
    "taxes[string_cols] = taxes[string_cols].apply(lambda col: col.str.lower())"
   ]
  },
  {
   "cell_type": "code",
   "execution_count": 37,
   "metadata": {},
   "outputs": [],
   "source": [
    "positive_pairs = pd.merge(census, taxes, on=\"simulant_id\", suffixes=(\"_census\", \"_tax\"))\n",
    "positive_pairs[\"match\"] = 1"
   ]
  },
  {
   "cell_type": "code",
   "execution_count": 38,
   "metadata": {},
   "outputs": [],
   "source": [
    "def generate_negative_pairs(census, taxes, num_negatives):\n",
    "    negatives = []\n",
    "    for _ in range(num_negatives):\n",
    "        census_row = census.sample(1).iloc[0]\n",
    "        taxes_row = taxes.sample(1).iloc[0]\n",
    "        if census_row[\"simulant_id\"] != taxes_row[\"simulant_id\"]:\n",
    "            negatives.append({\n",
    "                \"first_name_census\": census_row[\"first_name\"],\n",
    "                \"middle_initial_census\": census_row[\"middle_initial\"],\n",
    "                \"last_name_census\": census_row[\"last_name\"],\n",
    "                \"street_number_census\": census_row[\"street_number\"],\n",
    "                \"street_name_census\": census_row[\"street_name\"],\n",
    "                \"unit_number_census\": census_row[\"unit_number\"],\n",
    "                \"city_census\": census_row[\"city\"],\n",
    "                \"state_census\": census_row[\"state\"],\n",
    "                \"zipcode_census\": census_row[\"zipcode\"],\n",
    "                \"first_name_taxes\": taxes_row[\"first_name\"],\n",
    "                \"middle_initial_taxes\": taxes_row[\"middle_initial\"],\n",
    "                \"last_name_taxes\": taxes_row[\"last_name\"],\n",
    "                \"street_number_taxes\": taxes_row[\"street_number\"],\n",
    "                \"street_name_taxes\": taxes_row[\"street_name\"],\n",
    "                \"unit_number_taxes\": taxes_row[\"unit_number\"],\n",
    "                \"city_taxes\": taxes_row[\"city\"],\n",
    "                \"state_taxes\": taxes_row[\"state\"],\n",
    "                \"zipcode_taxes\": taxes_row[\"zipcode\"],\n",
    "                \"match\": 0\n",
    "            })\n",
    "    return pd.DataFrame(negatives)\n",
    "\n",
    "negative_pairs = generate_negative_pairs(census, taxes, len(positive_pairs))"
   ]
  },
  {
   "cell_type": "code",
   "execution_count": 40,
   "metadata": {},
   "outputs": [],
   "source": [
    "# Prepare the full dataset\n",
    "data_pairs = pd.concat([\n",
    "    positive_pairs,\n",
    "    negative_pairs\n",
    "], ignore_index=True)"
   ]
  },
  {
   "cell_type": "code",
   "execution_count": 41,
   "metadata": {},
   "outputs": [],
   "source": [
    "# Fill NaN for all object (string) columns with an empty string\n",
    "data_pairs[data_pairs.select_dtypes(include=[\"object\"]).columns] = (\n",
    "    data_pairs.select_dtypes(include=[\"object\"]).fillna(\"\")\n",
    ")"
   ]
  },
  {
   "cell_type": "code",
   "execution_count": 42,
   "metadata": {},
   "outputs": [],
   "source": [
    "data_pairs.to_csv('data_pairs.csv')"
   ]
  }
 ],
 "metadata": {
  "kernelspec": {
   "display_name": "Python 3",
   "language": "python",
   "name": "python3"
  },
  "language_info": {
   "codemirror_mode": {
    "name": "ipython",
    "version": 3
   },
   "file_extension": ".py",
   "mimetype": "text/x-python",
   "name": "python",
   "nbconvert_exporter": "python",
   "pygments_lexer": "ipython3",
   "version": "3.11.9"
  }
 },
 "nbformat": 4,
 "nbformat_minor": 2
}
